{
 "cells": [
  {
   "cell_type": "markdown",
   "id": "f51dd4d9",
   "metadata": {},
   "source": [
    "# Stroke Classification\n",
    "A stroke occurs when the blood supply to part of your brain is interrupted or reduced, preventing brain tissue from getting oxygen and nutrients. Brain cells begin to die in minutes. A stroke is a medical emergency, and prompt treatment is crucial. For that we need to identiy potential stroke chance."
   ]
  },
  {
   "cell_type": "markdown",
   "id": "4bfea8ee",
   "metadata": {},
   "source": [
    "## Importing Libraries\n",
    "\n",
    "Let's begin with importing necessary libraries for completing our task."
   ]
  },
  {
   "cell_type": "code",
   "execution_count": 1,
   "id": "5bfb91f4",
   "metadata": {},
   "outputs": [],
   "source": [
    "import pandas as pd\n",
    "import numpy as np\n",
    "import matplotlib.pyplot as plt\n",
    "import seaborn as sns\n",
    "from sklearn.preprocessing import LabelEncoder\n",
    "import dataframe_image as dfi\n",
    "%matplotlib inline"
   ]
  },
  {
   "cell_type": "markdown",
   "id": "f391b13e",
   "metadata": {},
   "source": [
    "## Read CSV\n",
    "Reading CSV file, which have our data. With help of this CSV we will try to understand the pattern and create our prediction Model."
   ]
  },
  {
   "cell_type": "code",
   "execution_count": 2,
   "id": "2aef1c2e",
   "metadata": {},
   "outputs": [],
   "source": [
    "data=pd.read_csv('healthcare-dataset-stroke-data.csv')\n",
    "data.head(10)\n",
    "dfi.export(data.head(10),'head.png')"
   ]
  },
  {
   "cell_type": "code",
   "execution_count": 3,
   "id": "78d78938",
   "metadata": {},
   "outputs": [
    {
     "name": "stdout",
     "output_type": "stream",
     "text": [
      "<class 'pandas.core.frame.DataFrame'>\n",
      "RangeIndex: 5110 entries, 0 to 5109\n",
      "Data columns (total 12 columns):\n",
      " #   Column             Non-Null Count  Dtype  \n",
      "---  ------             --------------  -----  \n",
      " 0   id                 5110 non-null   int64  \n",
      " 1   gender             5110 non-null   object \n",
      " 2   age                5110 non-null   float64\n",
      " 3   hypertension       5110 non-null   int64  \n",
      " 4   heart_disease      5110 non-null   int64  \n",
      " 5   ever_married       5110 non-null   object \n",
      " 6   work_type          5110 non-null   object \n",
      " 7   Residence_type     5110 non-null   object \n",
      " 8   avg_glucose_level  5110 non-null   float64\n",
      " 9   bmi                4909 non-null   float64\n",
      " 10  smoking_status     5110 non-null   object \n",
      " 11  stroke             5110 non-null   int64  \n",
      "dtypes: float64(3), int64(4), object(5)\n",
      "memory usage: 479.2+ KB\n"
     ]
    }
   ],
   "source": [
    "data.info()\n"
   ]
  },
  {
   "cell_type": "code",
   "execution_count": 4,
   "id": "78ad1af3",
   "metadata": {},
   "outputs": [],
   "source": [
    "data.describe()\n",
    "dfi.export(data.describe(),'des.png')"
   ]
  },
  {
   "cell_type": "markdown",
   "id": "a0e8b58a",
   "metadata": {},
   "source": [
    "1) id: unique identifier<br/>\n",
    "2) gender: \"Male\", \"Female\" or \"Other\"<br/>\n",
    "3) age: age of the patient<br/>\n",
    "4) hypertension: 0 if the patient doesn't have hypertension, 1 if the patient has hypertension<br/>\n",
    "5) heart_disease: 0 if the patient doesn't have any heart diseases, 1 if the patient has a heart disease<br/>\n",
    "6) ever_married: \"No\" or \"Yes\"<br/>\n",
    "7) work_type: \"children\", \"Govt_jov\", \"Never_worked\", \"Private\" or \"Self-employed\"<br/>\n",
    "8) Residence_type: \"Rural\" or \"Urban\"<br/>\n",
    "9) avg_glucose_level: average glucose level in blood<br/>\n",
    "10) bmi: body mass index<br/>\n",
    "11) smoking_status: \"formerly smoked\", \"never smoked\", \"smokes\" or \"Unknown\"*<br/>\n",
    "12) stroke: 1 if the patient had a stroke or 0 if not<br/>\n",
    "*Note: \"Unknown\" in smoking_status means that the information is unavailable for this patient"
   ]
  },
  {
   "cell_type": "markdown",
   "id": "4464dd44",
   "metadata": {},
   "source": [
    "## EDA"
   ]
  },
  {
   "cell_type": "markdown",
   "id": "1830700f",
   "metadata": {},
   "source": [
    "### Id"
   ]
  },
  {
   "cell_type": "markdown",
   "id": "40220ad1",
   "metadata": {},
   "source": [
    "Id is nothing but unique number assign to every patient to keep track on them and making them unique. There is no need of id its completely useless so let's remove it."
   ]
  },
  {
   "cell_type": "code",
   "execution_count": 5,
   "id": "2fc3a041",
   "metadata": {},
   "outputs": [],
   "source": [
    "data.drop(\"id\",inplace=True,axis=1)"
   ]
  },
  {
   "cell_type": "markdown",
   "id": "27939a63",
   "metadata": {},
   "source": [
    "### Gender\n",
    "This attributes states gender of patient. Let's see how does Gender affects and Gender wise comparision of stroke rate."
   ]
  },
  {
   "cell_type": "code",
   "execution_count": 6,
   "id": "657e8b5a",
   "metadata": {},
   "outputs": [
    {
     "name": "stdout",
     "output_type": "stream",
     "text": [
      "Unique values\n",
      " ['Male' 'Female' 'Other']\n",
      "Value Counts\n",
      " Female    2994\n",
      "Male      2115\n",
      "Other        1\n",
      "Name: gender, dtype: int64\n"
     ]
    }
   ],
   "source": [
    "print('Unique values\\n',data['gender'].unique())\n",
    "print('Value Counts\\n',data['gender'].value_counts())"
   ]
  },
  {
   "cell_type": "code",
   "execution_count": 7,
   "id": "43bea0df",
   "metadata": {},
   "outputs": [
    {
     "data": {
      "text/plain": [
       "<AxesSubplot:xlabel='gender', ylabel='count'>"
      ]
     },
     "execution_count": 7,
     "metadata": {},
     "output_type": "execute_result"
    },
    {
     "data": {
      "image/png": "[encoded data removed]",
      "text/plain": [
       "<Figure size 432x288 with 1 Axes>"
      ]
     },
     "metadata": {
      "needs_background": "light"
     },
     "output_type": "display_data"
    }
   ],
   "source": [
    "sns.countplot(data=data,x='gender')"
   ]
  },
  {
   "cell_type": "code",
   "execution_count": 8,
   "id": "792cb982",
   "metadata": {},
   "outputs": [
    {
     "data": {
      "text/plain": [
       "<AxesSubplot:xlabel='gender', ylabel='count'>"
      ]
     },
     "execution_count": 8,
     "metadata": {},
     "output_type": "execute_result"
    },
    {
     "data": {
      "image/png": "[encoded data removed]",
      "text/plain": [
       "<Figure size 432x288 with 1 Axes>"
      ]
     },
     "metadata": {
      "needs_background": "light"
     },
     "output_type": "display_data"
    }
   ],
   "source": [
    "sns.countplot(data=data,x='gender',hue='stroke')"
   ]
  },
  {
   "cell_type": "markdown",
   "id": "a0894346",
   "metadata": {},
   "source": [
    "Seems like dataset is imballanced. Anyway, as we can there is not much difference between stroke rate with respect to gender."
   ]
  },
  {
   "cell_type": "markdown",
   "id": "5a50da81",
   "metadata": {},
   "source": [
    "### Age\n",
    "\n",
    "Well here age is just not a number, it's one of the significant or as we can say it's very crucial factor. Let's analyse our data and see how much impact actual impact it has."
   ]
  },
  {
   "cell_type": "code",
   "execution_count": 9,
   "id": "23e41534",
   "metadata": {},
   "outputs": [
    {
     "data": {
      "text/plain": [
       "104"
      ]
     },
     "execution_count": 9,
     "metadata": {},
     "output_type": "execute_result"
    }
   ],
   "source": [
    "data['age'].nunique()"
   ]
  },
  {
   "cell_type": "code",
   "execution_count": 10,
   "id": "613974d4",
   "metadata": {},
   "outputs": [
    {
     "data": {
      "text/plain": [
       "<seaborn.axisgrid.FacetGrid at 0x2218061d5f8>"
      ]
     },
     "execution_count": 10,
     "metadata": {},
     "output_type": "execute_result"
    },
    {
     "data": {
      "image/png": "[encoded data removed]",
      "text/plain": [
       "<Figure size 360x360 with 1 Axes>"
      ]
     },
     "metadata": {
      "needs_background": "light"
     },
     "output_type": "display_data"
    }
   ],
   "source": [
    "sns.displot(data['age'])"
   ]
  },
  {
   "cell_type": "code",
   "execution_count": 11,
   "id": "cfa9bfce",
   "metadata": {},
   "outputs": [
    {
     "data": {
      "text/plain": [
       "<AxesSubplot:xlabel='stroke', ylabel='age'>"
      ]
     },
     "execution_count": 11,
     "metadata": {},
     "output_type": "execute_result"
    },
    {
     "data": {
      "image/png": "[encoded data removed]",
      "text/plain": [
       "<Figure size 1080x504 with 1 Axes>"
      ]
     },
     "metadata": {
      "needs_background": "light"
     },
     "output_type": "display_data"
    }
   ],
   "source": [
    "plt.figure(figsize=(15,7))\n",
    "sns.boxplot(data=data,x='stroke',y='age')"
   ]
  },
  {
   "cell_type": "markdown",
   "id": "66f500be",
   "metadata": {},
   "source": [
    "People aged more than 50 years tends to have stroke. There are some outliers which can be seen as people below age 20 are having stroke it might be possible that it's valid data as stroke also depends on our eating and living habbits. Previous argument can be back by another observation and that is people not having strokes also consists of people age > 60 years. "
   ]
  },
  {
   "cell_type": "markdown",
   "id": "f55e1880",
   "metadata": {},
   "source": [
    "### Hypertension\n",
    "Hypertension is a condition when a person has high blood pressure. Hypertension might result into stroke. Let's see how it goes."
   ]
  },
  {
   "cell_type": "code",
   "execution_count": 12,
   "id": "bc057b10",
   "metadata": {},
   "outputs": [
    {
     "name": "stdout",
     "output_type": "stream",
     "text": [
      "Value Count [0 1]\n",
      "Value Counts\n",
      " 0    4612\n",
      "1     498\n",
      "Name: hypertension, dtype: int64\n"
     ]
    }
   ],
   "source": [
    "print('Value Count',data['hypertension'].unique())\n",
    "print(\"Value Counts\\n\",data['hypertension'].value_counts())"
   ]
  },
  {
   "cell_type": "code",
   "execution_count": 13,
   "id": "c7c07f9d",
   "metadata": {},
   "outputs": [
    {
     "data": {
      "text/plain": [
       "<AxesSubplot:xlabel='hypertension', ylabel='count'>"
      ]
     },
     "execution_count": 13,
     "metadata": {},
     "output_type": "execute_result"
    },
    {
     "data": {
      "image/png": "[encoded data removed]",
      "text/plain": [
       "<Figure size 432x288 with 1 Axes>"
      ]
     },
     "metadata": {
      "needs_background": "light"
     },
     "output_type": "display_data"
    }
   ],
   "source": [
    "sns.countplot(data=data,x='hypertension')"
   ]
  },
  {
   "cell_type": "code",
   "execution_count": 14,
   "id": "4c8a2bdb",
   "metadata": {},
   "outputs": [
    {
     "data": {
      "text/plain": [
       "<AxesSubplot:xlabel='hypertension', ylabel='count'>"
      ]
     },
     "execution_count": 14,
     "metadata": {},
     "output_type": "execute_result"
    },
    {
     "data": {
      "image/png": "[encoded data removed]",
      "text/plain": [
       "<Figure size 432x288 with 1 Axes>"
      ]
     },
     "metadata": {
      "needs_background": "light"
     },
     "output_type": "display_data"
    }
   ],
   "source": [
    "sns.countplot(data=data,x='hypertension',hue='stroke')"
   ]
  },
  {
   "cell_type": "markdown",
   "id": "17cca34d",
   "metadata": {},
   "source": [
    "Well, hypertension is rare in young people and common in aged people. Hypertension can cause stoke. Based on our data picture is not that clear for hypertension. It has quite few data of patient having hypertension."
   ]
  },
  {
   "cell_type": "markdown",
   "id": "ccdf4b91",
   "metadata": {},
   "source": [
    "### Heart Disease"
   ]
  },
  {
   "cell_type": "markdown",
   "id": "86857c5e",
   "metadata": {},
   "source": [
    "People having heart disease tends to have higher risk of having stroke if proper care is not taken."
   ]
  },
  {
   "cell_type": "code",
   "execution_count": 15,
   "id": "fd37f974",
   "metadata": {},
   "outputs": [
    {
     "name": "stdout",
     "output_type": "stream",
     "text": [
      "Unique Value\n",
      " [1 0]\n",
      "Value Counts\n",
      " 0    4834\n",
      "1     276\n",
      "Name: heart_disease, dtype: int64\n"
     ]
    }
   ],
   "source": [
    "print('Unique Value\\n',data['heart_disease'].unique())\n",
    "print('Value Counts\\n',data['heart_disease'].value_counts())"
   ]
  },
  {
   "cell_type": "code",
   "execution_count": 16,
   "id": "ad5a7e4c",
   "metadata": {},
   "outputs": [
    {
     "data": {
      "text/plain": [
       "<AxesSubplot:xlabel='heart_disease', ylabel='count'>"
      ]
     },
     "execution_count": 16,
     "metadata": {},
     "output_type": "execute_result"
    },
    {
     "data": {
      "image/png": "[encoded data removed]",
      "text/plain": [
       "<Figure size 432x288 with 1 Axes>"
      ]
     },
     "metadata": {
      "needs_background": "light"
     },
     "output_type": "display_data"
    }
   ],
   "source": [
    "sns.countplot(data=data,x='heart_disease')"
   ]
  },
  {
   "cell_type": "code",
   "execution_count": 17,
   "id": "12172ec3",
   "metadata": {},
   "outputs": [
    {
     "data": {
      "text/plain": [
       "<AxesSubplot:xlabel='heart_disease', ylabel='count'>"
      ]
     },
     "execution_count": 17,
     "metadata": {},
     "output_type": "execute_result"
    },
    {
     "data": {
      "image/png": "[encoded data removed]",
      "text/plain": [
       "<Figure size 432x288 with 1 Axes>"
      ]
     },
     "metadata": {
      "needs_background": "light"
     },
     "output_type": "display_data"
    }
   ],
   "source": [
    "sns.countplot(data=data,x='heart_disease',hue='stroke')"
   ]
  },
  {
   "cell_type": "markdown",
   "id": "85bb4465",
   "metadata": {},
   "source": [
    "Because of imballanced dataset it's litle bit difficult to get idea. But as per this plot we can say that heart disease is not affecting Stroke."
   ]
  },
  {
   "cell_type": "markdown",
   "id": "7630e1ce",
   "metadata": {},
   "source": [
    "### Ever Married"
   ]
  },
  {
   "cell_type": "code",
   "execution_count": 18,
   "id": "280e7420",
   "metadata": {},
   "outputs": [
    {
     "name": "stdout",
     "output_type": "stream",
     "text": [
      "Unique Values\n",
      " ['Yes' 'No']\n",
      "Value Counts\n",
      " Yes    3353\n",
      "No     1757\n",
      "Name: ever_married, dtype: int64\n"
     ]
    }
   ],
   "source": [
    "print('Unique Values\\n',data['ever_married'].unique())\n",
    "print('Value Counts\\n',data['ever_married'].value_counts())"
   ]
  },
  {
   "cell_type": "code",
   "execution_count": 19,
   "id": "aa8df233",
   "metadata": {},
   "outputs": [
    {
     "data": {
      "text/plain": [
       "<AxesSubplot:xlabel='ever_married', ylabel='count'>"
      ]
     },
     "execution_count": 19,
     "metadata": {},
     "output_type": "execute_result"
    },
    {
     "data": {
      "image/png": "[encoded data removed]",
      "text/plain": [
       "<Figure size 432x288 with 1 Axes>"
      ]
     },
     "metadata": {
      "needs_background": "light"
     },
     "output_type": "display_data"
    }
   ],
   "source": [
    "sns.countplot(data=data,x='ever_married')"
   ]
  },
  {
   "cell_type": "code",
   "execution_count": 20,
   "id": "388c57a6",
   "metadata": {},
   "outputs": [
    {
     "data": {
      "text/plain": [
       "<AxesSubplot:xlabel='ever_married', ylabel='count'>"
      ]
     },
     "execution_count": 20,
     "metadata": {},
     "output_type": "execute_result"
    },
    {
     "data": {
      "image/png": "[encoded data removed]",
      "text/plain": [
       "<Figure size 432x288 with 1 Axes>"
      ]
     },
     "metadata": {
      "needs_background": "light"
     },
     "output_type": "display_data"
    }
   ],
   "source": [
    "sns.countplot(data=data,x='ever_married',hue='stroke')"
   ]
  },
  {
   "cell_type": "markdown",
   "id": "56bfe779",
   "metadata": {},
   "source": [
    "People who are married have higher stroke rate."
   ]
  },
  {
   "cell_type": "markdown",
   "id": "e31c0c7f",
   "metadata": {},
   "source": [
    "### Work Type"
   ]
  },
  {
   "cell_type": "code",
   "execution_count": 21,
   "id": "2f5a90ac",
   "metadata": {},
   "outputs": [
    {
     "name": "stdout",
     "output_type": "stream",
     "text": [
      "Unique Value\n",
      " ['Private' 'Self-employed' 'Govt_job' 'children' 'Never_worked']\n",
      "Value Counts\n",
      " Private          2925\n",
      "Self-employed     819\n",
      "children          687\n",
      "Govt_job          657\n",
      "Never_worked       22\n",
      "Name: work_type, dtype: int64\n"
     ]
    }
   ],
   "source": [
    "print('Unique Value\\n',data['work_type'].unique())\n",
    "print('Value Counts\\n',data['work_type'].value_counts())"
   ]
  },
  {
   "cell_type": "code",
   "execution_count": 22,
   "id": "bb09a100",
   "metadata": {},
   "outputs": [
    {
     "data": {
      "text/plain": [
       "<AxesSubplot:xlabel='work_type', ylabel='count'>"
      ]
     },
     "execution_count": 22,
     "metadata": {},
     "output_type": "execute_result"
    },
    {
     "data": {
      "image/png": "[encoded data removed]",
      "text/plain": [
       "<Figure size 432x288 with 1 Axes>"
      ]
     },
     "metadata": {
      "needs_background": "light"
     },
     "output_type": "display_data"
    }
   ],
   "source": [
    "sns.countplot(data=data,x='work_type')"
   ]
  },
  {
   "cell_type": "code",
   "execution_count": 23,
   "id": "b1998f6c",
   "metadata": {},
   "outputs": [
    {
     "data": {
      "text/plain": [
       "<AxesSubplot:xlabel='work_type', ylabel='count'>"
      ]
     },
     "execution_count": 23,
     "metadata": {},
     "output_type": "execute_result"
    },
    {
     "data": {
      "image/png": "[encoded data removed]",
      "text/plain": [
       "<Figure size 432x288 with 1 Axes>"
      ]
     },
     "metadata": {
      "needs_background": "light"
     },
     "output_type": "display_data"
    }
   ],
   "source": [
    "sns.countplot(data=data,x='work_type',hue='stroke')"
   ]
  },
  {
   "cell_type": "markdown",
   "id": "8ea143a2",
   "metadata": {},
   "source": [
    "People working in Private sector have higher risk of getting stroke. And people who have never worked have very less stroke rate."
   ]
  },
  {
   "cell_type": "markdown",
   "id": "bc711c37",
   "metadata": {},
   "source": [
    "### Residence Type\n",
    "This attribute tells us whether what kind of residence patient is. It can be Urban or Rural."
   ]
  },
  {
   "cell_type": "code",
   "execution_count": 24,
   "id": "eb0246a0",
   "metadata": {},
   "outputs": [
    {
     "name": "stdout",
     "output_type": "stream",
     "text": [
      "Unique Values\n",
      " ['Urban' 'Rural']\n",
      "Value Counts\n",
      " Urban    2596\n",
      "Rural    2514\n",
      "Name: Residence_type, dtype: int64\n"
     ]
    }
   ],
   "source": [
    "print('Unique Values\\n',data['Residence_type'].unique())\n",
    "print(\"Value Counts\\n\",data['Residence_type'].value_counts())"
   ]
  },
  {
   "cell_type": "code",
   "execution_count": 25,
   "id": "50420bc8",
   "metadata": {
    "scrolled": true
   },
   "outputs": [
    {
     "data": {
      "text/plain": [
       "<AxesSubplot:xlabel='Residence_type', ylabel='count'>"
      ]
     },
     "execution_count": 25,
     "metadata": {},
     "output_type": "execute_result"
    },
    {
     "data": {
      "image/png": "[encoded data removed]",
      "text/plain": [
       "<Figure size 432x288 with 1 Axes>"
      ]
     },
     "metadata": {
      "needs_background": "light"
     },
     "output_type": "display_data"
    }
   ],
   "source": [
    "sns.countplot(data=data,x='Residence_type')"
   ]
  },
  {
   "cell_type": "code",
   "execution_count": 26,
   "id": "e29d9f8d",
   "metadata": {},
   "outputs": [
    {
     "data": {
      "text/plain": [
       "<AxesSubplot:xlabel='Residence_type', ylabel='count'>"
      ]
     },
     "execution_count": 26,
     "metadata": {},
     "output_type": "execute_result"
    },
    {
     "data": {
      "image/png": "[encoded data removed]",
      "text/plain": [
       "<Figure size 432x288 with 1 Axes>"
      ]
     },
     "metadata": {
      "needs_background": "light"
     },
     "output_type": "display_data"
    }
   ],
   "source": [
    "sns.countplot(data=data,x='Residence_type',hue='stroke')"
   ]
  },
  {
   "cell_type": "markdown",
   "id": "8d16d04f",
   "metadata": {},
   "source": [
    "This attribute is of no use. As we can see there not much difference in both attribute values. Maybe we have to discard it."
   ]
  },
  {
   "cell_type": "markdown",
   "id": "1fd22b41",
   "metadata": {},
   "source": [
    "### Avg Glucose Level\n",
    "Tells about average glucose level in patient body. Let's see whether this affects chances of having stroke"
   ]
  },
  {
   "cell_type": "code",
   "execution_count": 27,
   "id": "dcdc208a",
   "metadata": {},
   "outputs": [
    {
     "data": {
      "text/plain": [
       "3979"
      ]
     },
     "execution_count": 27,
     "metadata": {},
     "output_type": "execute_result"
    }
   ],
   "source": [
    "data['avg_glucose_level'].nunique()"
   ]
  },
  {
   "cell_type": "code",
   "execution_count": 28,
   "id": "809b33ab",
   "metadata": {},
   "outputs": [
    {
     "data": {
      "text/plain": [
       "<seaborn.axisgrid.FacetGrid at 0x22181d05f98>"
      ]
     },
     "execution_count": 28,
     "metadata": {},
     "output_type": "execute_result"
    },
    {
     "data": {
      "image/png": "[encoded data removed]",
      "text/plain": [
       "<Figure size 360x360 with 1 Axes>"
      ]
     },
     "metadata": {
      "needs_background": "light"
     },
     "output_type": "display_data"
    }
   ],
   "source": [
    "sns.displot(data['avg_glucose_level'])"
   ]
  },
  {
   "cell_type": "code",
   "execution_count": 29,
   "id": "b64d77c7",
   "metadata": {},
   "outputs": [
    {
     "data": {
      "text/plain": [
       "<AxesSubplot:xlabel='stroke', ylabel='avg_glucose_level'>"
      ]
     },
     "execution_count": 29,
     "metadata": {},
     "output_type": "execute_result"
    },
    {
     "data": {
      "image/png": "[encoded data removed]",
      "text/plain": [
       "<Figure size 432x288 with 1 Axes>"
      ]
     },
     "metadata": {
      "needs_background": "light"
     },
     "output_type": "display_data"
    }
   ],
   "source": [
    "sns.boxplot(data=data,x='stroke',y='avg_glucose_level')"
   ]
  },
  {
   "cell_type": "markdown",
   "id": "9cc8768f",
   "metadata": {},
   "source": [
    "From this above graph we can see that people having stroke have average glucose level more than 100. There are some obvious outliers in patient who have no stroke but there are some chances of this being genuine records."
   ]
  },
  {
   "cell_type": "markdown",
   "id": "cd659f67",
   "metadata": {},
   "source": [
    "### BMI\n",
    "Body Mass Index is a measure of body fat based on height and weight that applies to adult men and women. Let's see how does it affects chances of having stroke."
   ]
  },
  {
   "cell_type": "code",
   "execution_count": 30,
   "id": "3c94b977",
   "metadata": {},
   "outputs": [
    {
     "data": {
      "text/plain": [
       "201"
      ]
     },
     "execution_count": 30,
     "metadata": {},
     "output_type": "execute_result"
    }
   ],
   "source": [
    "data['bmi'].isna().sum()"
   ]
  },
  {
   "cell_type": "code",
   "execution_count": 31,
   "id": "55223a99",
   "metadata": {},
   "outputs": [],
   "source": [
    "data['bmi'].fillna(data['bmi'].mean(),inplace=True)"
   ]
  },
  {
   "cell_type": "code",
   "execution_count": 32,
   "id": "4ebcc123",
   "metadata": {},
   "outputs": [
    {
     "data": {
      "text/plain": [
       "419"
      ]
     },
     "execution_count": 32,
     "metadata": {},
     "output_type": "execute_result"
    }
   ],
   "source": [
    "data['bmi'].nunique()"
   ]
  },
  {
   "cell_type": "code",
   "execution_count": 33,
   "id": "533f3004",
   "metadata": {},
   "outputs": [
    {
     "data": {
      "text/plain": [
       "<seaborn.axisgrid.FacetGrid at 0x22181e85780>"
      ]
     },
     "execution_count": 33,
     "metadata": {},
     "output_type": "execute_result"
    },
    {
     "data": {
      "image/png": "[encoded data removed]",
      "text/plain": [
       "<Figure size 360x360 with 1 Axes>"
      ]
     },
     "metadata": {
      "needs_background": "light"
     },
     "output_type": "display_data"
    }
   ],
   "source": [
    "sns.displot(data['bmi'])"
   ]
  },
  {
   "cell_type": "code",
   "execution_count": 34,
   "id": "784b7428",
   "metadata": {},
   "outputs": [
    {
     "data": {
      "text/plain": [
       "<AxesSubplot:xlabel='stroke', ylabel='bmi'>"
      ]
     },
     "execution_count": 34,
     "metadata": {},
     "output_type": "execute_result"
    },
    {
     "data": {
      "image/png": "[encoded data removed]",
      "text/plain": [
       "<Figure size 432x288 with 1 Axes>"
      ]
     },
     "metadata": {
      "needs_background": "light"
     },
     "output_type": "display_data"
    }
   ],
   "source": [
    "sns.boxplot(data=data,x='stroke',y='bmi')"
   ]
  },
  {
   "cell_type": "markdown",
   "id": "d4cfff91",
   "metadata": {},
   "source": [
    "There are as such no promient observation how does bmi affects chances of having stroke."
   ]
  },
  {
   "cell_type": "markdown",
   "id": "b90f9a23",
   "metadata": {},
   "source": [
    "### Smoking Status\n",
    "This attributes tells us whether or not patient smokes. Smoking is injurious to health and it may cause cardiac disease. Let's see how it turns out in case of our data."
   ]
  },
  {
   "cell_type": "code",
   "execution_count": 35,
   "id": "671bcfd0",
   "metadata": {},
   "outputs": [
    {
     "name": "stdout",
     "output_type": "stream",
     "text": [
      "Unique Values\n",
      " ['formerly smoked' 'never smoked' 'smokes' 'Unknown']\n",
      "Value Counts\n",
      " never smoked       1892\n",
      "Unknown            1544\n",
      "formerly smoked     885\n",
      "smokes              789\n",
      "Name: smoking_status, dtype: int64\n"
     ]
    }
   ],
   "source": [
    "print('Unique Values\\n',data['smoking_status'].unique())\n",
    "print('Value Counts\\n',data['smoking_status'].value_counts())"
   ]
  },
  {
   "cell_type": "code",
   "execution_count": 36,
   "id": "390d2a93",
   "metadata": {},
   "outputs": [
    {
     "data": {
      "text/plain": [
       "<AxesSubplot:xlabel='smoking_status', ylabel='count'>"
      ]
     },
     "execution_count": 36,
     "metadata": {},
     "output_type": "execute_result"
    },
    {
     "data": {
      "image/png": "[encoded data removed]",
      "text/plain": [
       "<Figure size 432x288 with 1 Axes>"
      ]
     },
     "metadata": {
      "needs_background": "light"
     },
     "output_type": "display_data"
    }
   ],
   "source": [
    "sns.countplot(data=data,x='smoking_status')"
   ]
  },
  {
   "cell_type": "code",
   "execution_count": 37,
   "id": "9ac028d2",
   "metadata": {},
   "outputs": [
    {
     "data": {
      "text/plain": [
       "<AxesSubplot:xlabel='smoking_status', ylabel='count'>"
      ]
     },
     "execution_count": 37,
     "metadata": {},
     "output_type": "execute_result"
    },
    {
     "data": {
      "image/png": "[encoded data removed]",
      "text/plain": [
       "<Figure size 432x288 with 1 Axes>"
      ]
     },
     "metadata": {
      "needs_background": "light"
     },
     "output_type": "display_data"
    }
   ],
   "source": [
    "sns.countplot(data=data,x='smoking_status',hue='stroke')"
   ]
  },
  {
   "cell_type": "markdown",
   "id": "cb48f5c1",
   "metadata": {},
   "source": [
    "As per these plots, we can see there is not much difference in chances of stroke irrespect of smoking status."
   ]
  },
  {
   "cell_type": "markdown",
   "id": "90ea401e",
   "metadata": {},
   "source": [
    "### Stroke\n",
    "\n",
    "Our target variable. It tells us whether patient have chances of stroke."
   ]
  },
  {
   "cell_type": "code",
   "execution_count": 38,
   "id": "9b7cd1f3",
   "metadata": {},
   "outputs": [
    {
     "name": "stdout",
     "output_type": "stream",
     "text": [
      "Unique Value\n",
      " [1 0]\n",
      "Value Counts\n",
      " 0    4861\n",
      "1     249\n",
      "Name: stroke, dtype: int64\n"
     ]
    }
   ],
   "source": [
    "print('Unique Value\\n',data['stroke'].unique())\n",
    "print('Value Counts\\n',data['stroke'].value_counts())"
   ]
  },
  {
   "cell_type": "code",
   "execution_count": 39,
   "id": "493f6513",
   "metadata": {},
   "outputs": [
    {
     "data": {
      "text/plain": [
       "<AxesSubplot:xlabel='stroke', ylabel='count'>"
      ]
     },
     "execution_count": 39,
     "metadata": {},
     "output_type": "execute_result"
    },
    {
     "data": {
      "image/png": "[encoded data removed]",
      "text/plain": [
       "<Figure size 432x288 with 1 Axes>"
      ]
     },
     "metadata": {
      "needs_background": "light"
     },
     "output_type": "display_data"
    }
   ],
   "source": [
    "sns.countplot(data=data,x='stroke')"
   ]
  },
  {
   "cell_type": "markdown",
   "id": "30b25f5e",
   "metadata": {},
   "source": [
    "As we can say its imballanced dataset."
   ]
  },
  {
   "cell_type": "markdown",
   "id": "a37aac1c",
   "metadata": {},
   "source": [
    "## Feature Engineering"
   ]
  },
  {
   "cell_type": "code",
   "execution_count": 40,
   "id": "a91c66ee",
   "metadata": {},
   "outputs": [
    {
     "data": {
      "text/plain": [
       "Index(['gender', 'ever_married', 'work_type', 'Residence_type',\n",
       "       'smoking_status'],\n",
       "      dtype='object')"
      ]
     },
     "execution_count": 40,
     "metadata": {},
     "output_type": "execute_result"
    }
   ],
   "source": [
    "cols=data.select_dtypes(include=['object']).columns\n",
    "cols"
   ]
  },
  {
   "cell_type": "code",
   "execution_count": 41,
   "id": "bea07c37",
   "metadata": {},
   "outputs": [],
   "source": [
    "le=LabelEncoder()"
   ]
  },
  {
   "cell_type": "code",
   "execution_count": 42,
   "id": "4b1a0be2",
   "metadata": {},
   "outputs": [],
   "source": [
    "data[cols]=data[cols].apply(le.fit_transform)\n",
    "data.head(10)\n",
    "dfi.export(data.head(10),'encode.png')"
   ]
  },
  {
   "cell_type": "code",
   "execution_count": 43,
   "id": "e1c9a387",
   "metadata": {},
   "outputs": [
    {
     "data": {
      "text/plain": [
       "<AxesSubplot:>"
      ]
     },
     "execution_count": 43,
     "metadata": {},
     "output_type": "execute_result"
    },
    {
     "data": {
      "image/png": "[encoded data removed]",
      "text/plain": [
       "<Figure size 1080x720 with 2 Axes>"
      ]
     },
     "metadata": {
      "needs_background": "light"
     },
     "output_type": "display_data"
    }
   ],
   "source": [
    "plt.figure(figsize=(15,10))\n",
    "sns.heatmap(data.corr(),annot=True,fmt='.2')"
   ]
  },
  {
   "cell_type": "code",
   "execution_count": 44,
   "id": "12ae5253",
   "metadata": {},
   "outputs": [],
   "source": [
    "from sklearn.feature_selection import SelectKBest, f_classif\n",
    "classifier = SelectKBest(score_func=f_classif,k=5)\n",
    "fits = classifier.fit(data.drop('stroke',axis=1),data['stroke'])\n",
    "x=pd.DataFrame(fits.scores_)\n",
    "columns = pd.DataFrame(data.drop('stroke',axis=1).columns)\n",
    "fscores = pd.concat([columns,x],axis=1)\n",
    "fscores.columns = ['Attribute','Score']\n",
    "dfi.export(fscores.sort_values(by='Score',ascending=False),\"feature.png\")"
   ]
  },
  {
   "cell_type": "code",
   "execution_count": 45,
   "id": "58ebedd4",
   "metadata": {},
   "outputs": [
    {
     "data": {
      "text/plain": [
       "1                  age\n",
       "2         hypertension\n",
       "3        heart_disease\n",
       "4         ever_married\n",
       "7    avg_glucose_level\n",
       "Name: Attribute, dtype: object"
      ]
     },
     "execution_count": 45,
     "metadata": {},
     "output_type": "execute_result"
    }
   ],
   "source": [
    "cols=fscores[fscores['Score']>50]['Attribute']\n",
    "cols"
   ]
  },
  {
   "cell_type": "code",
   "execution_count": 46,
   "id": "ec9b21d0",
   "metadata": {},
   "outputs": [],
   "source": [
    "from sklearn.model_selection import train_test_split\n",
    "from sklearn.metrics import accuracy_score, f1_score,classification_report,precision_score,recall_score"
   ]
  },
  {
   "cell_type": "code",
   "execution_count": 47,
   "id": "12834804",
   "metadata": {},
   "outputs": [],
   "source": [
    "train_x,test_x,train_y,test_y=train_test_split(data[cols],data['stroke'],random_state=1255,test_size=0.25)"
   ]
  },
  {
   "cell_type": "code",
   "execution_count": 48,
   "id": "64928a98",
   "metadata": {},
   "outputs": [
    {
     "data": {
      "text/plain": [
       "((3832, 5), (1278, 5), (3832,), (1278,))"
      ]
     },
     "execution_count": 48,
     "metadata": {},
     "output_type": "execute_result"
    }
   ],
   "source": [
    "train_x.shape,test_x.shape,train_y.shape,test_y.shape"
   ]
  },
  {
   "cell_type": "markdown",
   "id": "af2e5471",
   "metadata": {},
   "source": [
    "## Model Creation"
   ]
  },
  {
   "cell_type": "markdown",
   "id": "ae487c01",
   "metadata": {},
   "source": [
    "### Balancing Dataset"
   ]
  },
  {
   "cell_type": "code",
   "execution_count": 49,
   "id": "f9f4c69b",
   "metadata": {},
   "outputs": [],
   "source": [
    "from imblearn.over_sampling import SMOTE"
   ]
  },
  {
   "cell_type": "code",
   "execution_count": 50,
   "id": "a07b5ced",
   "metadata": {},
   "outputs": [],
   "source": [
    "smote=SMOTE()\n",
    "train_x,train_y=smote.fit_resample(train_x,train_y)\n",
    "test_x,test_y=smote.fit_resample(test_x,test_y)"
   ]
  },
  {
   "cell_type": "code",
   "execution_count": 51,
   "id": "1116174b",
   "metadata": {},
   "outputs": [
    {
     "data": {
      "text/plain": [
       "((7296, 5), (7296,), (2426, 5), (2426,))"
      ]
     },
     "execution_count": 51,
     "metadata": {},
     "output_type": "execute_result"
    }
   ],
   "source": [
    "train_x.shape,train_y.shape,test_x.shape,test_y.shape"
   ]
  },
  {
   "cell_type": "markdown",
   "id": "ac2e1479",
   "metadata": {},
   "source": [
    "As we know, our dataset is imbalanced. So let's balance our data. We are going to use SMOTE method for this. It will populate our data with records similar to our minor class. Usually, we perform this on whole dataset but as we have very less records of minor class I am applying it on both train and test data. Earlier I tried doing it by just resampling data of train dataset but it didn't performed that well so I tried this approach and got a good result."
   ]
  },
  {
   "cell_type": "markdown",
   "id": "061d3bea",
   "metadata": {},
   "source": [
    "### Logistic Regression"
   ]
  },
  {
   "cell_type": "code",
   "execution_count": 52,
   "id": "ccec88d3",
   "metadata": {},
   "outputs": [],
   "source": [
    "from sklearn.linear_model import LogisticRegression"
   ]
  },
  {
   "cell_type": "code",
   "execution_count": 53,
   "id": "3971c97c",
   "metadata": {},
   "outputs": [
    {
     "name": "stdout",
     "output_type": "stream",
     "text": [
      "Accuracy -->  0.8070898598516076\n",
      "F1 Score -->  0.8151658767772513\n",
      "Classification Report  --> \n",
      "               precision    recall  f1-score   support\n",
      "\n",
      "           0       0.76      0.84      0.80      1107\n",
      "           1       0.85      0.78      0.82      1319\n",
      "\n",
      "    accuracy                           0.81      2426\n",
      "   macro avg       0.81      0.81      0.81      2426\n",
      "weighted avg       0.81      0.81      0.81      2426\n",
      "\n"
     ]
    }
   ],
   "source": [
    "lr=LogisticRegression()\n",
    "lr.fit(train_x,train_y)\n",
    "predict=lr.predict(test_x)\n",
    "print('Accuracy --> ',accuracy_score(predict,test_y))\n",
    "print('F1 Score --> ',f1_score(predict,test_y))\n",
    "print('Classification Report  --> \\n',classification_report(predict,test_y))"
   ]
  },
  {
   "cell_type": "markdown",
   "id": "f40187be",
   "metadata": {},
   "source": [
    "### Random Forest"
   ]
  },
  {
   "cell_type": "code",
   "execution_count": 54,
   "id": "1c86f75c",
   "metadata": {},
   "outputs": [],
   "source": [
    "from sklearn.ensemble import RandomForestClassifier"
   ]
  },
  {
   "cell_type": "code",
   "execution_count": 55,
   "id": "c57e0579",
   "metadata": {
    "scrolled": false
   },
   "outputs": [
    {
     "name": "stderr",
     "output_type": "stream",
     "text": [
      "[Parallel(n_jobs=-1)]: Using backend ThreadingBackend with 12 concurrent workers.\n",
      "[Parallel(n_jobs=-1)]: Done  26 tasks      | elapsed:    0.0s\n",
      "[Parallel(n_jobs=-1)]: Done 176 tasks      | elapsed:    0.1s\n",
      "[Parallel(n_jobs=-1)]: Done 426 tasks      | elapsed:    0.4s\n",
      "[Parallel(n_jobs=-1)]: Done 776 tasks      | elapsed:    0.8s\n",
      "[Parallel(n_jobs=-1)]: Done 1226 tasks      | elapsed:    1.3s\n",
      "[Parallel(n_jobs=-1)]: Done 1776 tasks      | elapsed:    1.9s\n",
      "[Parallel(n_jobs=-1)]: Done 2426 tasks      | elapsed:    2.6s\n",
      "[Parallel(n_jobs=-1)]: Done 3176 tasks      | elapsed:    3.4s\n",
      "[Parallel(n_jobs=-1)]: Done 4026 tasks      | elapsed:    4.4s\n",
      "[Parallel(n_jobs=-1)]: Done 4976 tasks      | elapsed:    5.5s\n",
      "[Parallel(n_jobs=-1)]: Done 6026 tasks      | elapsed:    6.7s\n",
      "[Parallel(n_jobs=-1)]: Done 7176 tasks      | elapsed:    8.0s\n",
      "[Parallel(n_jobs=-1)]: Done 8426 tasks      | elapsed:    9.4s\n",
      "[Parallel(n_jobs=-1)]: Done 9776 tasks      | elapsed:   10.9s\n",
      "[Parallel(n_jobs=-1)]: Done 11226 tasks      | elapsed:   12.5s\n",
      "[Parallel(n_jobs=-1)]: Done 12776 tasks      | elapsed:   14.1s\n",
      "[Parallel(n_jobs=-1)]: Done 14426 tasks      | elapsed:   15.8s\n",
      "[Parallel(n_jobs=-1)]: Done 16176 tasks      | elapsed:   17.6s\n",
      "[Parallel(n_jobs=-1)]: Done 18026 tasks      | elapsed:   19.8s\n",
      "[Parallel(n_jobs=-1)]: Done 19976 tasks      | elapsed:   22.2s\n",
      "[Parallel(n_jobs=-1)]: Done 20000 out of 20000 | elapsed:   22.2s finished\n",
      "[Parallel(n_jobs=12)]: Using backend ThreadingBackend with 12 concurrent workers.\n",
      "[Parallel(n_jobs=12)]: Done  26 tasks      | elapsed:    0.0s\n",
      "[Parallel(n_jobs=12)]: Done 176 tasks      | elapsed:    0.0s\n",
      "[Parallel(n_jobs=12)]: Done 426 tasks      | elapsed:    0.1s\n",
      "[Parallel(n_jobs=12)]: Done 776 tasks      | elapsed:    0.2s\n",
      "[Parallel(n_jobs=12)]: Done 1226 tasks      | elapsed:    0.3s\n",
      "[Parallel(n_jobs=12)]: Done 1776 tasks      | elapsed:    0.4s\n",
      "[Parallel(n_jobs=12)]: Done 2426 tasks      | elapsed:    0.6s\n",
      "[Parallel(n_jobs=12)]: Done 3176 tasks      | elapsed:    0.8s\n",
      "[Parallel(n_jobs=12)]: Done 4026 tasks      | elapsed:    1.0s\n",
      "[Parallel(n_jobs=12)]: Done 4976 tasks      | elapsed:    1.2s\n",
      "[Parallel(n_jobs=12)]: Done 6026 tasks      | elapsed:    1.5s\n",
      "[Parallel(n_jobs=12)]: Done 7176 tasks      | elapsed:    1.8s\n",
      "[Parallel(n_jobs=12)]: Done 8426 tasks      | elapsed:    2.1s\n",
      "[Parallel(n_jobs=12)]: Done 9776 tasks      | elapsed:    2.4s\n",
      "[Parallel(n_jobs=12)]: Done 11226 tasks      | elapsed:    2.8s\n",
      "[Parallel(n_jobs=12)]: Done 12776 tasks      | elapsed:    3.1s\n",
      "[Parallel(n_jobs=12)]: Done 14426 tasks      | elapsed:    3.5s\n",
      "[Parallel(n_jobs=12)]: Done 16176 tasks      | elapsed:    3.9s\n",
      "[Parallel(n_jobs=12)]: Done 18026 tasks      | elapsed:    4.3s\n"
     ]
    },
    {
     "name": "stdout",
     "output_type": "stream",
     "text": [
      "Accuracy -->  0.7914262159934048\n",
      "F1 Score -->  0.8067226890756303\n",
      "Classification Report  --> \n",
      "               precision    recall  f1-score   support\n",
      "\n",
      "           0       0.71      0.85      0.77      1021\n",
      "           1       0.87      0.75      0.81      1405\n",
      "\n",
      "    accuracy                           0.79      2426\n",
      "   macro avg       0.79      0.80      0.79      2426\n",
      "weighted avg       0.80      0.79      0.79      2426\n",
      "\n"
     ]
    },
    {
     "name": "stderr",
     "output_type": "stream",
     "text": [
      "[Parallel(n_jobs=12)]: Done 19976 tasks      | elapsed:    4.7s\n",
      "[Parallel(n_jobs=12)]: Done 20000 out of 20000 | elapsed:    4.7s finished\n"
     ]
    }
   ],
   "source": [
    "rfc=RandomForestClassifier(n_estimators=20000,max_depth=3,n_jobs=-1,verbose=1)\n",
    "rfc.fit(train_x,train_y)\n",
    "predict=rfc.predict(test_x)\n",
    "print('Accuracy --> ',accuracy_score(predict,test_y))\n",
    "print('F1 Score --> ',f1_score(predict,test_y))\n",
    "print('Classification Report  --> \\n',classification_report(predict,test_y))"
   ]
  },
  {
   "cell_type": "markdown",
   "id": "54c00f88",
   "metadata": {},
   "source": [
    "### SVM"
   ]
  },
  {
   "cell_type": "code",
   "execution_count": 56,
   "id": "b5c84a2f",
   "metadata": {},
   "outputs": [],
   "source": [
    "from sklearn.svm import SVC"
   ]
  },
  {
   "cell_type": "code",
   "execution_count": 57,
   "id": "b6e31b47",
   "metadata": {},
   "outputs": [
    {
     "name": "stdout",
     "output_type": "stream",
     "text": [
      "Accuracy -->  0.7852431986809563\n",
      "F1 Score -->  0.7928429423459246\n",
      "Classification Report  --> \n",
      "               precision    recall  f1-score   support\n",
      "\n",
      "           0       0.75      0.81      0.78      1124\n",
      "           1       0.82      0.77      0.79      1302\n",
      "\n",
      "    accuracy                           0.79      2426\n",
      "   macro avg       0.79      0.79      0.78      2426\n",
      "weighted avg       0.79      0.79      0.79      2426\n",
      "\n"
     ]
    }
   ],
   "source": [
    "svc=SVC(C=3)\n",
    "svc.fit(train_x,train_y)\n",
    "predict=svc.predict(test_x)\n",
    "print('Accuracy --> ',accuracy_score(predict,test_y))\n",
    "print('F1 Score --> ',f1_score(predict,test_y))\n",
    "print('Classification Report  --> \\n',classification_report(predict,test_y))"
   ]
  },
  {
   "cell_type": "markdown",
   "id": "e0154d95",
   "metadata": {},
   "source": [
    "### XGBOOST"
   ]
  },
  {
   "cell_type": "code",
   "execution_count": 58,
   "id": "251db694",
   "metadata": {},
   "outputs": [],
   "source": [
    "from xgboost import XGBClassifier"
   ]
  },
  {
   "cell_type": "code",
   "execution_count": null,
   "id": "08dcc0a8",
   "metadata": {},
   "outputs": [
    {
     "name": "stderr",
     "output_type": "stream",
     "text": [
      "c:\\users\\parth\\anaconda3\\envs\\classification\\lib\\site-packages\\xgboost\\sklearn.py:1146: UserWarning: The use of label encoder in XGBClassifier is deprecated and will be removed in a future release. To remove this warning, do the following: 1) Pass option use_label_encoder=False when constructing XGBClassifier object; and 2) Encode your labels (y) as integers starting with 0, i.e. 0, 1, 2, ..., [num_class - 1].\n",
      "  warnings.warn(label_encoder_deprecation_msg, UserWarning)\n"
     ]
    },
    {
     "name": "stdout",
     "output_type": "stream",
     "text": [
      "[02:27:23] WARNING: C:/Users/Administrator/workspace/xgboost-win64_release_1.4.0/src/learner.cc:1095: Starting in XGBoost 1.3.0, the default evaluation metric used with the objective 'binary:logistic' was changed from 'error' to 'logloss'. Explicitly set eval_metric if you'd like to restore the old behavior.\n"
     ]
    }
   ],
   "source": [
    "xgc=XGBClassifier(objective='binary:logistic',n_estimators=100000,max_depth=5,learning_rate=0.001,n_jobs=-1)\n",
    "xgc.fit(train_x,train_y)\n",
    "predict=xgc.predict(test_x)\n",
    "print('Accuracy --> ',accuracy_score(predict,test_y))\n",
    "print('F1 Score --> ',f1_score(predict,test_y))\n",
    "print('Classification Report  --> \\n',classification_report(predict,test_y))"
   ]
  },
  {
   "cell_type": "markdown",
   "id": "b1a711b1",
   "metadata": {},
   "source": [
    "In balance dataset we relay on accuracy but here we have imballanced dataset, I am going with f1 score. For a good classifier it would be great to have a good  precission and recall score. Out of all models XGBClassifier have great result. So as model I am selecting XGBClassifier."
   ]
  }
 ],
 "metadata": {
  "kernelspec": {
   "display_name": "Python 3",
   "language": "python",
   "name": "python3"
  },
  "language_info": {
   "codemirror_mode": {
    "name": "ipython",
    "version": 3
   },
   "file_extension": ".py",
   "mimetype": "text/x-python",
   "name": "python",
   "nbconvert_exporter": "python",
   "pygments_lexer": "ipython3",
   "version": "3.6.13"
  }
 },
 "nbformat": 4,
 "nbformat_minor": 5
}
